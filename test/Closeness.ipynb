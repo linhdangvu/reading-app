{
 "cells": [
  {
   "cell_type": "code",
   "execution_count": null,
   "metadata": {},
   "outputs": [],
   "source": [
    "# %pip install networkx"
   ]
  },
  {
   "cell_type": "code",
   "execution_count": null,
   "metadata": {},
   "outputs": [],
   "source": [
    "import networkx as nx\n",
    "\n",
    "# Create the graph representing the reading app\n",
    "G = nx.Graph()\n",
    "G.add_edges_from([(1, 2), (1, 3), (2, 3), (2, 4), (3, 4), (3, 5), (4, 5), (4, 6), (5, 6)])\n",
    "# G.add_edges_from([(1, 2),(1,3),(1,4),(1,5),(2,6),(2,8),(6,7)])\n",
    "\n",
    "# Compute the closeness centrality of each node in the graph\n",
    "closeness_centrality = nx.closeness_centrality(G)\n",
    "\n",
    "# Print the closeness centrality of each node\n",
    "for node, closeness in closeness_centrality.items():\n",
    "    print(f\"Node {node}: Closeness centrality = {closeness}\")\n",
    "\n",
    "# Compute the betweenness centrality of each node in the graph\n",
    "betweenness_centrality = nx.betweenness_centrality(G)\n",
    "\n",
    "# Print the betweenness centrality of each node\n",
    "for node, betweenness in betweenness_centrality.items():\n",
    "    print(f\"Node {node}: Betweenness centrality = {betweenness}\")\n",
    "\n",
    "# Compute the betweenness centrality of each node in the graph\n",
    "degree_centrality = nx.degree_centrality(G)\n",
    "\n",
    "# Print the betweenness centrality of each node\n",
    "for node, degree in degree_centrality.items():\n",
    "    print(f\"Node {node}: Degree centrality = {degree}\")\n"
   ]
  },
  {
   "cell_type": "code",
   "execution_count": null,
   "metadata": {},
   "outputs": [],
   "source": [
    "data = dict()\n",
    "\n",
    "ajW1 = ['babylon', 'sargon', 'sargon', \"casting\"]\n",
    "\n",
    "# ajW2 = ['babylon', 'sargon']\n",
    "\n",
    "aj = ['book1','book2']\n",
    "\n",
    "for b in aj:\n",
    "    print(b)\n",
    "    for w in ajW1:\n",
    "        if w in data:\n",
    "            if b in data[w]:\n",
    "                data[w][b] += 1\n",
    "            else:\n",
    "                data[w][b] = 1\n",
    "            print(\"1 : \",data)\n",
    "        \n",
    "        else:\n",
    "            data[w] = dict({b:1})\n",
    "            print(\"2 : \",data)\n",
    "            \n",
    "print(data)"
   ]
  },
  {
   "cell_type": "code",
   "execution_count": null,
   "metadata": {},
   "outputs": [],
   "source": [
    "import requests\n",
    "import json\n",
    "import re\n",
    "\n",
    "# request to get books\n",
    "def getBooksData(listBooks):\n",
    "    booksData = []\n",
    "    for book in listBooks:\n",
    "        response_API = requests.get('https://gutendex.com/books/{}'.format(book))\n",
    "        #print(response_API.status_code)\n",
    "        data = response_API.text\n",
    "        parse_json = json.loads(data)\n",
    "        booksData.append(parse_json)\n",
    "    return booksData\n",
    "\n",
    "def getListBooks(listBooks):\n",
    "    data = getBooksData(listBooks)\n",
    "    result = []\n",
    "    for d in data:\n",
    "        for t in d['formats'].keys():\n",
    "            checkEnd = d['formats'][t].split('.').pop()\n",
    "            if(checkEnd == 'txt'):\n",
    "                result.append({\n",
    "                    'id': d['id'],\n",
    "                    'text_url': d['formats'][t]\n",
    "                })\n",
    "    return result"
   ]
  },
  {
   "cell_type": "code",
   "execution_count": null,
   "metadata": {},
   "outputs": [],
   "source": [
    "def getTableIndex(listBooksData):\n",
    "    # counts = dict()\n",
    "    # word2letters = dict()\n",
    "    # word3letters = dict()\n",
    "    tableIndex = dict()\n",
    "    booksInfo = []\n",
    "\n",
    "    for book in listBooksData:\n",
    "        print(book)\n",
    "        response_API = requests.get(book['text_url'])\n",
    "        data = response_API.text\n",
    "        #### Option 1: Prendre seulement des mots avec carateres de 4 à 10\n",
    "        words = re.findall(r\"[A-Za-z]{4,10}\\w+\", data)\n",
    "        for word in words:\n",
    "            w = word.lower()\n",
    "\n",
    "            # Count for table index all books\n",
    "            if w in tableIndex:\n",
    "                if book['id'] in tableIndex[w]:\n",
    "                    tableIndex[w][book['id']] += 1\n",
    "            else:\n",
    "                tableIndex[w] = {book['id']: 1}\n",
    "        \n",
    "    return tableIndex"
   ]
  },
  {
   "cell_type": "code",
   "execution_count": null,
   "metadata": {},
   "outputs": [],
   "source": [
    "listBooks = [49345,56667,1,2,3,4,5,6,7]\n",
    "# listBooks = [49345]\n",
    "listBooksData = getListBooks(listBooks)\n",
    "tableIndexData = getTableIndex(listBooksData)\n",
    "\n",
    "print(tableIndexData)"
   ]
  },
  {
   "cell_type": "code",
   "execution_count": null,
   "metadata": {},
   "outputs": [],
   "source": [
    "data = dict({\"sargonids\": {\n",
    "    \"49345\": 2, \n",
    "    \"56667\": 2\n",
    "  }, })\n"
   ]
  }
 ],
 "metadata": {
  "kernelspec": {
   "display_name": "Python 3",
   "language": "python",
   "name": "python3"
  },
  "language_info": {
   "codemirror_mode": {
    "name": "ipython",
    "version": 3
   },
   "file_extension": ".py",
   "mimetype": "text/x-python",
   "name": "python",
   "nbconvert_exporter": "python",
   "pygments_lexer": "ipython3",
   "version": "3.10.4"
  },
  "orig_nbformat": 4,
  "vscode": {
   "interpreter": {
    "hash": "aee8b7b246df8f9039afb4144a1f6fd8d2ca17a180786b69acc140d282b71a49"
   }
  }
 },
 "nbformat": 4,
 "nbformat_minor": 2
}
