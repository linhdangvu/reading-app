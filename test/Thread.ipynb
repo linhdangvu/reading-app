{
 "cells": [
  {
   "cell_type": "code",
   "execution_count": 35,
   "metadata": {},
   "outputs": [],
   "source": [
    "from threading import Thread\n",
    "import time\n",
    "import requests\n",
    "import concurrent.futures\n",
    "import json\n",
    "import sys"
   ]
  },
  {
   "cell_type": "code",
   "execution_count": null,
   "metadata": {},
   "outputs": [],
   "source": [
    "\n"
   ]
  },
  {
   "cell_type": "code",
   "execution_count": null,
   "metadata": {},
   "outputs": [],
   "source": [
    "\n",
    "def get_wiki_page_existence(wiki_page_url, timeout=10):\n",
    "    response = requests.get(url=wiki_page_url, timeout=timeout)\n",
    "\n",
    "    page_status = \"unknown\"\n",
    "    if response.status_code == 200:\n",
    "        page_status = \"exists\"\n",
    "    elif response.status_code == 404:\n",
    "        page_status = \"does not exist\"\n",
    "\n",
    "    return wiki_page_url + \" - \" + page_status"
   ]
  },
  {
   "cell_type": "code",
   "execution_count": null,
   "metadata": {},
   "outputs": [],
   "source": [
    "url = \"https://en.wikipedia.org/wiki/Ocean\"\n",
    "print(get_wiki_page_existence(wiki_page_url=url))"
   ]
  },
  {
   "cell_type": "code",
   "execution_count": null,
   "metadata": {},
   "outputs": [],
   "source": [
    "wiki_page_urls = [\"https://en.wikipedia.org/wiki/\" + str(i) for i in range(50)]\n",
    "\n",
    "print(\"Running without threads:\")\n",
    "without_threads_start = time.time()\n",
    "for url in wiki_page_urls:\n",
    "    print(get_wiki_page_existence(wiki_page_url=url))\n",
    "print(\"Without threads time:\", time.time() - without_threads_start)"
   ]
  },
  {
   "cell_type": "code",
   "execution_count": null,
   "metadata": {},
   "outputs": [],
   "source": [
    "wiki_page_urls = [\"https://en.wikipedia.org/wiki/\" + str(i) for i in range(50)]\n",
    "\n",
    "print(\"Running threaded:\")\n",
    "threaded_start = time.time()\n",
    "with concurrent.futures.ThreadPoolExecutor() as executor:\n",
    "    futures = []\n",
    "    for url in wiki_page_urls:\n",
    "        futures.append(executor.submit(get_wiki_page_existence, wiki_page_url=url))\n",
    "    for future in concurrent.futures.as_completed(futures):\n",
    "        print(future.result())\n",
    "print(\"Threaded time:\", time.time() - threaded_start)"
   ]
  },
  {
   "cell_type": "code",
   "execution_count": 39,
   "metadata": {},
   "outputs": [],
   "source": [
    "def getBooksData(bookId, timeout=10):\n",
    "    response_API = requests.get('https://gutendex.com/books/{}'.format(bookId), timeout=timeout)\n",
    "    data = response_API.text\n",
    "    parse_json = json.loads(data)\n",
    "    if parse_json.get('detail') != None:\n",
    "        print(bookId)\n",
    "        return 'NOT_FOUND'\n",
    "    return parse_json "
   ]
  },
  {
   "cell_type": "code",
   "execution_count": 42,
   "metadata": {},
   "outputs": [
    {
     "name": "stdout",
     "output_type": "stream",
     "text": [
      "Running threaded:\n",
      "40\n",
      "182\n",
      "183\n",
      "184\n",
      "186\n",
      "185\n",
      "187\n",
      "189\n",
      "188\n",
      "190\n",
      "193\n",
      "191\n",
      "195\n",
      "192\n",
      "194\n",
      "197\n",
      "196\n",
      "198\n",
      "199\n",
      "576\n",
      "900\n",
      "Threaded time: 36.49359393119812\n",
      "979\n"
     ]
    }
   ],
   "source": [
    "listBooks = [l for l in range(1,1001)]\n",
    "def getBooksThreadPool(listBooks):\n",
    "    print(\"Running threaded:\")\n",
    "    threaded_start = time.time()\n",
    "    booksData = []\n",
    "    with concurrent.futures.ThreadPoolExecutor() as executor:\n",
    "        futures = []\n",
    "        for bookId in listBooks:\n",
    "            futures.append(executor.submit(getBooksData, bookId))\n",
    "        for future in concurrent.futures.as_completed(futures):\n",
    "            if future.result() != 'NOT_FOUND':\n",
    "                booksData.append(future.result())\n",
    "            # print(future.result())\n",
    "    print(\"Threaded time:\", time.time() - threaded_start)\n",
    "    return booksData\n",
    "\n",
    "data = getBooksThreadPool(listBooks)\n",
    "print(len(data))"
   ]
  }
 ],
 "metadata": {
  "kernelspec": {
   "display_name": "Python 3",
   "language": "python",
   "name": "python3"
  },
  "language_info": {
   "codemirror_mode": {
    "name": "ipython",
    "version": 3
   },
   "file_extension": ".py",
   "mimetype": "text/x-python",
   "name": "python",
   "nbconvert_exporter": "python",
   "pygments_lexer": "ipython3",
   "version": "3.10.4"
  },
  "orig_nbformat": 4,
  "vscode": {
   "interpreter": {
    "hash": "aee8b7b246df8f9039afb4144a1f6fd8d2ca17a180786b69acc140d282b71a49"
   }
  }
 },
 "nbformat": 4,
 "nbformat_minor": 2
}
