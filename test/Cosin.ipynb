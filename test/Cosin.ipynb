{
 "cells": [
  {
   "cell_type": "code",
   "execution_count": 12,
   "metadata": {},
   "outputs": [],
   "source": [
    "# %pip install scikit-learn\n",
    "# %pip install pandas"
   ]
  },
  {
   "cell_type": "code",
   "execution_count": 19,
   "metadata": {},
   "outputs": [],
   "source": [
    "from sklearn.metrics.pairwise import cosine_similarity, cosine_distances\n",
    "import pandas as pd\n",
    "import requests\n",
    "import json\n",
    "import re"
   ]
  },
  {
   "cell_type": "code",
   "execution_count": 29,
   "metadata": {},
   "outputs": [
    {
     "data": {
      "text/plain": [
       "array([[1.11022302e-16]])"
      ]
     },
     "execution_count": 29,
     "metadata": {},
     "output_type": "execute_result"
    }
   ],
   "source": [
    "cosine_similarity([[3,1]],[[6,2]])\n",
    "cosine_distances([[3,1]],[[6,2]])"
   ]
  },
  {
   "cell_type": "code",
   "execution_count": null,
   "metadata": {},
   "outputs": [],
   "source": [
    "cosine_similarity([[3,0]],[[0,8]])"
   ]
  },
  {
   "cell_type": "code",
   "execution_count": null,
   "metadata": {},
   "outputs": [],
   "source": [
    "cosine_similarity([[3,1]],[[3,2]])"
   ]
  },
  {
   "cell_type": "code",
   "execution_count": 14,
   "metadata": {},
   "outputs": [],
   "source": [
    "doc1 = \"\"\"\n",
    "iphone sales contributed to 70% of revenue. iphone demand is increasing by 20% yoy. \n",
    "the main competitor phone galaxy recorded 5% less growth compared to iphone\" ipad ipad \n",
    "\"\"\"\n",
    "\n",
    "doc2 = \"\"\"\n",
    "The upside pressure on volumes for the iPhone 12 series, historical outperformance \n",
    "in the July-September time period heading into launch event, and further catalysts in relation\n",
    "to outperformance for iPhone 13 volumes relative to lowered investor expectations implies a \n",
    "very attractive set up for the shares.\n",
    "\"\"\"\n",
    "\n",
    "doc3 = \"\"\"\n",
    "samsung's flagship product galaxy is able to penetrate more into asian markets compared to\n",
    "iphone. galaxy is redesigned with new look that appeals young demographics. 60% of samsung revenues\n",
    "are coming from galaxy phone sales\n",
    "\"\"\"\n",
    "\n",
    "doc4 = \"\"\"\n",
    "Samsung Electronics unveils its Galaxy S21 flagship, with modest spec improvements \n",
    "and a significantly lower price point. Galaxy S21 price is lower by ~20% (much like the iPhone 12A), \n",
    "which highlights Samsung's focus on boosting shipments and regaining market share.\n",
    "\"\"\""
   ]
  },
  {
   "cell_type": "code",
   "execution_count": 78,
   "metadata": {},
   "outputs": [],
   "source": [
    "df = pd.DataFrame([\n",
    "        {'iPhone': 3,'galaxy': 1, 'ipad': 4, 'hi': 0},\n",
    "        {'iPhone': 2,'galaxy': 0, 'ipad': 1, 'hi': 0},\n",
    "        {'iPhone': 1,'galaxy': 3, 'ipad': 0, 'hi': 0},\n",
    "        {'iPhone': 1,'galaxy': 2, 'ipad': 2, 'hi': 0},\n",
    "        {'iPhone': 0,'galaxy': 0, 'ipad': 0, 'hi': 0},\n",
    "        {'iPhone': 0,'galaxy': 0, 'ipad': 0, 'hi': 0},\n",
    "        {'iPhone': 0,'galaxy': 0, 'ipad': 0, 'hi': 0},\n",
    "        {'iPhone': 0,'galaxy': 0, 'ipad': 0, 'hi': 0},\n",
    "    ],\n",
    "    index=[\n",
    "        \"doc1\",\n",
    "        \"doc2\",\n",
    "        \"doc3\",\n",
    "        \"doc4\",\n",
    "        \"doc5\",\"doc6\",\"doc7\",\"doc8\"\n",
    "    ])"
   ]
  },
  {
   "cell_type": "code",
   "execution_count": 80,
   "metadata": {},
   "outputs": [
    {
     "data": {
      "text/html": [
       "<div>\n",
       "<style scoped>\n",
       "    .dataframe tbody tr th:only-of-type {\n",
       "        vertical-align: middle;\n",
       "    }\n",
       "\n",
       "    .dataframe tbody tr th {\n",
       "        vertical-align: top;\n",
       "    }\n",
       "\n",
       "    .dataframe thead th {\n",
       "        text-align: right;\n",
       "    }\n",
       "</style>\n",
       "<table border=\"1\" class=\"dataframe\">\n",
       "  <thead>\n",
       "    <tr style=\"text-align: right;\">\n",
       "      <th></th>\n",
       "      <th>iPhone</th>\n",
       "      <th>galaxy</th>\n",
       "      <th>ipad</th>\n",
       "      <th>hi</th>\n",
       "    </tr>\n",
       "  </thead>\n",
       "  <tbody>\n",
       "    <tr>\n",
       "      <th>doc1</th>\n",
       "      <td>3</td>\n",
       "      <td>1</td>\n",
       "      <td>4</td>\n",
       "      <td>0</td>\n",
       "    </tr>\n",
       "    <tr>\n",
       "      <th>doc2</th>\n",
       "      <td>2</td>\n",
       "      <td>0</td>\n",
       "      <td>1</td>\n",
       "      <td>0</td>\n",
       "    </tr>\n",
       "    <tr>\n",
       "      <th>doc3</th>\n",
       "      <td>1</td>\n",
       "      <td>3</td>\n",
       "      <td>0</td>\n",
       "      <td>0</td>\n",
       "    </tr>\n",
       "    <tr>\n",
       "      <th>doc4</th>\n",
       "      <td>1</td>\n",
       "      <td>2</td>\n",
       "      <td>2</td>\n",
       "      <td>0</td>\n",
       "    </tr>\n",
       "    <tr>\n",
       "      <th>doc5</th>\n",
       "      <td>0</td>\n",
       "      <td>0</td>\n",
       "      <td>0</td>\n",
       "      <td>0</td>\n",
       "    </tr>\n",
       "    <tr>\n",
       "      <th>doc6</th>\n",
       "      <td>0</td>\n",
       "      <td>0</td>\n",
       "      <td>0</td>\n",
       "      <td>0</td>\n",
       "    </tr>\n",
       "    <tr>\n",
       "      <th>doc7</th>\n",
       "      <td>0</td>\n",
       "      <td>0</td>\n",
       "      <td>0</td>\n",
       "      <td>0</td>\n",
       "    </tr>\n",
       "    <tr>\n",
       "      <th>doc8</th>\n",
       "      <td>0</td>\n",
       "      <td>0</td>\n",
       "      <td>0</td>\n",
       "      <td>0</td>\n",
       "    </tr>\n",
       "  </tbody>\n",
       "</table>\n",
       "</div>"
      ],
      "text/plain": [
       "      iPhone  galaxy  ipad  hi\n",
       "doc1       3       1     4   0\n",
       "doc2       2       0     1   0\n",
       "doc3       1       3     0   0\n",
       "doc4       1       2     2   0\n",
       "doc5       0       0     0   0\n",
       "doc6       0       0     0   0\n",
       "doc7       0       0     0   0\n",
       "doc8       0       0     0   0"
      ]
     },
     "execution_count": 80,
     "metadata": {},
     "output_type": "execute_result"
    }
   ],
   "source": [
    "df\n",
    "#df.loc[\"doc1\":\"doc1\"]"
   ]
  },
  {
   "cell_type": "code",
   "execution_count": 76,
   "metadata": {},
   "outputs": [
    {
     "data": {
      "text/plain": [
       "array([[0.]])"
      ]
     },
     "execution_count": 76,
     "metadata": {},
     "output_type": "execute_result"
    }
   ],
   "source": [
    "cosine_similarity(df.loc[\"doc1\":\"doc1\"],df.loc[\"doc5\":\"doc5\"])"
   ]
  },
  {
   "cell_type": "code",
   "execution_count": 28,
   "metadata": {},
   "outputs": [
    {
     "name": "stdout",
     "output_type": "stream",
     "text": [
      "{\n",
      "  \"carver\": 1, \n",
      "  \"carvet\": 1, \n",
      "  \"saigon\": 2, \n",
      "  \"sargon\": 3\n",
      "}\n",
      "\n"
     ]
    }
   ],
   "source": [
    "data =  [\"independent\",\"abruptness\",\"abandonment\"]\n",
    "response_API = requests.post(\"http://127.0.0.1:5000/searchdata\", json = {\"word\": \"carvet\"})\n",
    "\n",
    "sendData = response_API.text\n",
    "print(sendData)"
   ]
  },
  {
   "cell_type": "code",
   "execution_count": 98,
   "metadata": {},
   "outputs": [],
   "source": [
    "def getTableIndex(listBooksData):\n",
    "    # counts = dict()\n",
    "    # word2letters = dict()\n",
    "    # word3letters = dict()\n",
    "    tableIndex = dict()\n",
    "    booksInfo = []\n",
    "\n",
    "    for book in listBooksData:\n",
    "        response_API = requests.get(book['text_url'])\n",
    "        data = response_API.text\n",
    "        #### Option 1: Prendre seulement des mots avec carateres de 4 à 10\n",
    "        words = re.findall(r\"[A-Za-z]{4,10}\\w+\", data)\n",
    "        occurentCounts = dict()\n",
    "\n",
    "        for word in words:\n",
    "            w = word.lower()\n",
    "\n",
    "            # Count for table index all books\n",
    "            if w in tableIndex:\n",
    "                if book['id'] in tableIndex[w]:\n",
    "                    tableIndex[w][book['id']] += 1\n",
    "                else:\n",
    "                    tableIndex[w][book['id']] = 1\n",
    "            else:\n",
    "                tableIndex[w] = dict({book['id']: 1})\n",
    "\n",
    "            # Count for table index for each book\n",
    "            if w in occurentCounts:\n",
    "                occurentCounts[w] += 1\n",
    "            else:\n",
    "                occurentCounts[w] = 1\n",
    "\n",
    "        booksInfo.append({\n",
    "            \"bookId\": book['id'],\n",
    "            \"words\": occurentCounts,\n",
    "            \"totalWords\": len(words),\n",
    "            \"totalWordsWithOccur\": len(occurentCounts)\n",
    "        })  \n",
    "    return tableIndex, booksInfo\n",
    "\n",
    "# request to get books\n",
    "def getBooksData(listBooks):\n",
    "    booksData = []\n",
    "    for book in listBooks:\n",
    "        response_API = requests.get('https://gutendex.com/books/{}'.format(book))\n",
    "        #print(response_API.status_code)\n",
    "        data = response_API.text\n",
    "        parse_json = json.loads(data)\n",
    "        booksData.append(parse_json)\n",
    "    return booksData\n",
    "\n",
    "def getListBooks(listBooks):\n",
    "    data = getBooksData(listBooks)\n",
    "    result = []\n",
    "    for d in data:\n",
    "        for t in d['formats'].keys():\n",
    "            checkEnd = d['formats'][t].split('.').pop()\n",
    "            if(checkEnd == 'txt'):\n",
    "                result.append({\n",
    "                    'id': d['id'],\n",
    "                    'text_url': d['formats'][t]\n",
    "                })\n",
    "    return result\n"
   ]
  },
  {
   "cell_type": "code",
   "execution_count": 99,
   "metadata": {},
   "outputs": [],
   "source": [
    "\n",
    "listBooks = [49345,56667,1,2,3,4,5,6,7]\n",
    "listBooksData = getListBooks(listBooks)\n",
    "tableIndexData, booksInfo = getTableIndex(listBooksData)\n",
    "historyWords =dict({\n",
    "  \"carver\": 1, \n",
    "  \"carvet\": 1, \n",
    "  \"saigon\": 2, \n",
    "  \"sargon\": 3\n",
    "})\n"
   ]
  },
  {
   "cell_type": "code",
   "execution_count": 137,
   "metadata": {},
   "outputs": [
    {
     "name": "stdout",
     "output_type": "stream",
     "text": [
      "{1: 1, 7: 1}\n",
      "{49345: 1}\n",
      "{49345: 98, 56667: 27}\n",
      "Show resuft\n",
      "history - {'carver': 1, 'carvet': 1, 'saigon': 2, 'sargon': 3}\n",
      "1 - {'carver': 1}\n",
      "7 - {'carver': 1}\n",
      "49345 - {'saigon': 1, 'sargon': 98}\n",
      "56667 - {'sargon': 27}\n",
      "         carver  carvet  saigon  sargon\n",
      "history     1.0     1.0     2.0     3.0\n",
      "1           1.0     NaN     NaN     NaN\n",
      "7           1.0     NaN     NaN     NaN\n",
      "49345       NaN     NaN     1.0    98.0\n",
      "56667       NaN     NaN     NaN    27.0\n"
     ]
    }
   ],
   "source": [
    "\n",
    "def cosineSimilarity(historyWords, tableIndexData):\n",
    "    booksData = dict({'history':historyWords})\n",
    "    # booksIndex = ['history']\n",
    "\n",
    "    for word in historyWords.keys():\n",
    "        if word in tableIndexData:\n",
    "            print(tableIndexData[word])\n",
    "            for b in tableIndexData[word].keys(): \n",
    "                if b in booksData:\n",
    "                    # print(dict({word:tableIndexData[word][b]}))\n",
    "                    booksData[b].update(dict({word:tableIndexData[word][b]}))\n",
    "                else:\n",
    "                    booksData.update(dict({b: dict({word:tableIndexData[word][b]})}))\n",
    "                \n",
    "    print(\"Show resuft\")\n",
    "    [print(\"{} - {}\".format(b, booksData[b])) for b in booksData]\n",
    "\n",
    "    bookDF = pd.DataFrame(booksData.values(),\n",
    "        index=booksData.keys()).fillna(0)\n",
    "\n",
    "    print(bookDF)\n",
    "    \n",
    "\n",
    "    # for book in booksInfo:\n",
    "    #     count = 0\n",
    "    #     booksIndex.append(book['bookId'])\n",
    "    #     booksWords = dict()\n",
    "    #     for w in historyWords.keys():\n",
    "    #         if w in book['words']:\n",
    "    #             booksWords[w] = book['words'][w]\n",
    "    #         else:\n",
    "    #             booksWords[w] = 0\n",
    "    #     booksData.append(booksWords)\n",
    "\n",
    "    # bookDF = pd.DataFrame(booksData,\n",
    "    #     index=booksIndex)\n",
    "\n",
    "    # print(bookDF)\n",
    "\n",
    "    # for cs in booksIndex[1:]:\n",
    "    #     res = cosine_similarity(bookDF.loc[\"history\":\"history\"],bookDF.loc[cs:cs])\n",
    "    #     print(res)\n",
    "\n",
    "cosineSimilarity(historyWords, tableIndexData)\n"
   ]
  },
  {
   "cell_type": "code",
   "execution_count": 94,
   "metadata": {},
   "outputs": [
    {
     "name": "stdout",
     "output_type": "stream",
     "text": [
      "{'bookId': 49345, 'jaccard': 0.0007574609907589759}\n",
      "{'bookId': 56667, 'jaccard': 0.0004023605150214592}\n",
      "{'bookId': 1, 'jaccard': 0.0003757985719654265}\n",
      "{'bookId': 2, 'jaccard': 0.0}\n",
      "{'bookId': 3, 'jaccard': 0.0}\n",
      "{'bookId': 4, 'jaccard': 0.0}\n",
      "{'bookId': 5, 'jaccard': 0.0}\n",
      "{'bookId': 6, 'jaccard': 0.0}\n",
      "{'bookId': 7, 'jaccard': 0.0023923444976076554}\n"
     ]
    },
    {
     "data": {
      "text/plain": [
       "[None, None, None, None, None, None, None, None, None]"
      ]
     },
     "execution_count": 94,
     "metadata": {},
     "output_type": "execute_result"
    }
   ],
   "source": [
    "booksData = []\n",
    "for book in booksInfo:\n",
    "    count = 0\n",
    "    for w in historyWords.keys():\n",
    "        if w in book['words']:\n",
    "            # count number occurs in document\n",
    "            # count += book['words'][w]\n",
    "            # count if have that word in ducument\n",
    "            count += historyWords[w]\n",
    "    booksData.append({\n",
    "        \"bookId\": book['bookId'],\n",
    "        \"jaccard\": (count/book['totalWordsWithOccur'])\n",
    "    })\n",
    "\n",
    "[print(b) for b in booksData]"
   ]
  }
 ],
 "metadata": {
  "kernelspec": {
   "display_name": "Python 3 (ipykernel)",
   "language": "python",
   "name": "python3"
  },
  "language_info": {
   "codemirror_mode": {
    "name": "ipython",
    "version": 3
   },
   "file_extension": ".py",
   "mimetype": "text/x-python",
   "name": "python",
   "nbconvert_exporter": "python",
   "pygments_lexer": "ipython3",
   "version": "3.10.4"
  },
  "vscode": {
   "interpreter": {
    "hash": "aee8b7b246df8f9039afb4144a1f6fd8d2ca17a180786b69acc140d282b71a49"
   }
  }
 },
 "nbformat": 4,
 "nbformat_minor": 2
}
