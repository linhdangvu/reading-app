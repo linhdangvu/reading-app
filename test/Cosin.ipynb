{
 "cells": [
  {
   "cell_type": "code",
   "execution_count": null,
   "metadata": {},
   "outputs": [],
   "source": [
    "# %pip install scikit-learn\n",
    "# %pip install pandas"
   ]
  },
  {
   "cell_type": "code",
   "execution_count": null,
   "metadata": {},
   "outputs": [],
   "source": [
    "from sklearn.metrics.pairwise import cosine_similarity, cosine_distances\n",
    "import pandas as pd\n",
    "import time, concurrent.futures, json, requests, re"
   ]
  },
  {
   "cell_type": "code",
   "execution_count": null,
   "metadata": {},
   "outputs": [],
   "source": [
    "cosine_similarity([[3,1]],[[6,2]])\n",
    "cosine_distances([[3,1]],[[6,2]])"
   ]
  },
  {
   "cell_type": "code",
   "execution_count": null,
   "metadata": {},
   "outputs": [],
   "source": [
    "cosine_similarity([[3,0]],[[0,8]])"
   ]
  },
  {
   "cell_type": "code",
   "execution_count": null,
   "metadata": {},
   "outputs": [],
   "source": [
    "cosine_similarity([[3,1]],[[3,2]])"
   ]
  },
  {
   "cell_type": "code",
   "execution_count": null,
   "metadata": {},
   "outputs": [],
   "source": [
    "doc1 = \"\"\"\n",
    "iphone sales contributed to 70% of revenue. iphone demand is increasing by 20% yoy. \n",
    "the main competitor phone galaxy recorded 5% less growth compared to iphone\" ipad ipad \n",
    "\"\"\"\n",
    "\n",
    "doc2 = \"\"\"\n",
    "The upside pressure on volumes for the iPhone 12 series, historical outperformance \n",
    "in the July-September time period heading into launch event, and further catalysts in relation\n",
    "to outperformance for iPhone 13 volumes relative to lowered investor expectations implies a \n",
    "very attractive set up for the shares.\n",
    "\"\"\"\n",
    "\n",
    "doc3 = \"\"\"\n",
    "samsung's flagship product galaxy is able to penetrate more into asian markets compared to\n",
    "iphone. galaxy is redesigned with new look that appeals young demographics. 60% of samsung revenues\n",
    "are coming from galaxy phone sales\n",
    "\"\"\"\n",
    "\n",
    "doc4 = \"\"\"\n",
    "Samsung Electronics unveils its Galaxy S21 flagship, with modest spec improvements \n",
    "and a significantly lower price point. Galaxy S21 price is lower by ~20% (much like the iPhone 12A), \n",
    "which highlights Samsung's focus on boosting shipments and regaining market share.\n",
    "\"\"\""
   ]
  },
  {
   "cell_type": "code",
   "execution_count": null,
   "metadata": {},
   "outputs": [],
   "source": [
    "df = pd.DataFrame([\n",
    "        {'iPhone': 3,'galaxy': 1, 'ipad': 4, 'hi': 0},\n",
    "        {'iPhone': 2,'galaxy': 0, 'ipad': 1, 'hi': 0},\n",
    "        {'iPhone': 1,'galaxy': 3, 'ipad': 0, 'hi': 0},\n",
    "        {'iPhone': 1,'galaxy': 2, 'ipad': 2, 'hi': 0},\n",
    "        {'iPhone': 0,'galaxy': 0, 'ipad': 0, 'hi': 0},\n",
    "        {'iPhone': 0,'galaxy': 0, 'ipad': 0, 'hi': 0},\n",
    "        {'iPhone': 0,'galaxy': 0, 'ipad': 0, 'hi': 0},\n",
    "        {'iPhone': 0,'galaxy': 0, 'ipad': 0, 'hi': 0},\n",
    "    ],\n",
    "    index=[\n",
    "        \"doc1\",\n",
    "        \"doc2\",\n",
    "        \"doc3\",\n",
    "        \"doc4\",\n",
    "        \"doc5\",\"doc6\",\"doc7\",\"doc8\"\n",
    "    ])"
   ]
  },
  {
   "cell_type": "code",
   "execution_count": null,
   "metadata": {},
   "outputs": [],
   "source": [
    "df\n",
    "#df.loc[\"doc1\":\"doc1\"]"
   ]
  },
  {
   "cell_type": "code",
   "execution_count": null,
   "metadata": {},
   "outputs": [],
   "source": [
    "cosine_similarity(df.loc[\"doc1\":\"doc1\"],df.loc[\"doc5\":\"doc5\"])"
   ]
  },
  {
   "cell_type": "code",
   "execution_count": null,
   "metadata": {},
   "outputs": [],
   "source": [
    "data =  [\"independent\",\"abruptness\",\"abandonment\"]\n",
    "response_API = requests.post(\"http://127.0.0.1:5000/searchdata\", json = {\"word\": \"carvet\"})\n",
    "\n",
    "sendData = response_API.text\n",
    "print(sendData)"
   ]
  },
  {
   "cell_type": "code",
   "execution_count": null,
   "metadata": {},
   "outputs": [],
   "source": [
    "# request to get books\n",
    "def getBooksThread(bookId, timeout=10):\n",
    "    response_API = requests.get('https://gutendex.com/books/{}'.format(bookId), timeout=timeout)\n",
    "    data = response_API.text\n",
    "    parse_json = json.loads(data)\n",
    "    if parse_json.get('detail') != None:\n",
    "        # print(bookId)\n",
    "        return 'NOT_FOUND'\n",
    "    return parse_json \n",
    "\n",
    "def getBooksData(listBooks):\n",
    "    print(\"Running get books threads:\")\n",
    "    threaded_start = time.time()\n",
    "    booksData = []\n",
    "    with concurrent.futures.ThreadPoolExecutor() as executor:\n",
    "        futures = []\n",
    "        for bookId in listBooks:\n",
    "            futures.append(executor.submit(getBooksThread, bookId))\n",
    "        for future in concurrent.futures.as_completed(futures):\n",
    "            if future.result() != 'NOT_FOUND':\n",
    "                booksData.append(future.result())\n",
    "            # print(future.result())\n",
    "    print(\"Threaded get books\", time.time() - threaded_start)\n",
    "    return booksData\n",
    "\n",
    "\n",
    "\n",
    "def getListBooks(listBooks):\n",
    "    def transformData(d):\n",
    "        res = []\n",
    "        if d.get('formats')!=None:\n",
    "            for t in d['formats'].keys():\n",
    "                checkEnd = d['formats'][t].split('.').pop()\n",
    "                if checkEnd == 'txt':\n",
    "                    res.append({\n",
    "                        'id': d['id'],\n",
    "                        'text_url': d['formats'][t]\n",
    "                    })\n",
    "        return res\n",
    "    \n",
    "    data = getBooksData(listBooks)\n",
    "    result = []\n",
    "    \n",
    "    print(\"Running get list books:\")\n",
    "    threaded_start = time.time()\n",
    "    with concurrent.futures.ThreadPoolExecutor() as executor:\n",
    "        futures = []\n",
    "        for d in data:\n",
    "            futures.append(executor.submit(transformData, d))\n",
    "        for future in concurrent.futures.as_completed(futures):\n",
    "            result += future.result()\n",
    "    print(\"Threaded get list books time:\", time.time() - threaded_start)\n",
    "    return result\n",
    "\n",
    "def getTableIndex(listBooks):\n",
    "    tableIndex = dict()\n",
    "    booksInfo = []\n",
    "    listBooksData = getListBooks(listBooks)\n",
    "\n",
    "    for book in listBooksData:\n",
    "        response_API = requests.get(book['text_url'])\n",
    "        data = response_API.text\n",
    "        #### Option 1: Prendre seulement des mots avec carateres de 4 à 10\n",
    "        words = re.findall(r\"[A-Za-z]{4,10}\\w+\", data)\n",
    "        occurentCounts = dict()\n",
    "\n",
    "        for word in words:\n",
    "            w = word.lower()\n",
    "\n",
    "            # Count for table index all books\n",
    "            if w in tableIndex:\n",
    "                if book['id'] in tableIndex[w]:\n",
    "                    tableIndex[w][book['id']] += 1\n",
    "                else:\n",
    "                    tableIndex[w][book['id']] = 1\n",
    "            else:\n",
    "                tableIndex[w] = dict({book['id']: 1})\n",
    "\n",
    "            # Count for table index for each book\n",
    "            if w in occurentCounts:\n",
    "                occurentCounts[w] += 1\n",
    "            else:\n",
    "                occurentCounts[w] = 1\n",
    "\n",
    "        booksInfo.append({\n",
    "            \"bookId\": book['id'],\n",
    "            \"words\": occurentCounts,\n",
    "            \"totalWords\": len(words),\n",
    "            \"totalWordsWithOccur\": len(occurentCounts)\n",
    "        })    \n",
    "    return tableIndex, booksInfo\n",
    "\n"
   ]
  },
  {
   "cell_type": "code",
   "execution_count": null,
   "metadata": {},
   "outputs": [],
   "source": [
    "\n",
    "listBooks = [49345,56667,1,2,3,4,5,6,7]\n",
    "tableIndexData, booksInfo = getTableIndex(listBooks)\n",
    "historyWords =dict({\n",
    "  \"carver\": 1, \n",
    "  \"carvet\": 1, \n",
    "  \"saigon\": 2, \n",
    "  \"sargon\": 3\n",
    "})\n",
    "\n",
    "print(tableIndexData['sargon'])\n"
   ]
  },
  {
   "cell_type": "code",
   "execution_count": 12,
   "metadata": {},
   "outputs": [
    {
     "name": "stdout",
     "output_type": "stream",
     "text": [
      "       welcome  world  plain  vanilla  electronic  texts  etexts  readable  \\\n",
      "4          1.0      3      3        1           1      1    13.0         3   \n",
      "1          4.0     22      6        2           2      3    17.0         7   \n",
      "5          1.0      3      3        1           1      2     3.0         4   \n",
      "2          1.0      2      3        1           1      1    13.0         3   \n",
      "6          1.0      3      3        1           1      1    13.0         3   \n",
      "3          3.0     10      3        1           1      1    13.0         3   \n",
      "49345      2.0     26     47        2          27     99     0.0         2   \n",
      "7          1.0      2      3        1           1      1    13.0         3   \n",
      "56667      0.0     39     22        2          27     55     0.0         2   \n",
      "\n",
      "       humans  computers  ...  profound  griechische  klassische  altertum  \\\n",
      "4         1.0          2  ...       0.0          0.0         0.0       0.0   \n",
      "1         2.0          3  ...       0.0          0.0         0.0       0.0   \n",
      "5         1.0          2  ...       0.0          0.0         0.0       0.0   \n",
      "2         1.0          2  ...       0.0          0.0         0.0       0.0   \n",
      "6         1.0          2  ...       0.0          0.0         0.0       0.0   \n",
      "3         1.0          2  ...       0.0          0.0         0.0       0.0   \n",
      "49345     0.0          2  ...       0.0          0.0         0.0       0.0   \n",
      "7         1.0          2  ...       0.0          0.0         0.0       0.0   \n",
      "56667     0.0          2  ...       1.0          1.0         1.0       1.0   \n",
      "\n",
      "       religions  schiarparelli  transl  wilde  creek  kinos  \n",
      "4            0.0            0.0     0.0    0.0    0.0    0.0  \n",
      "1            0.0            0.0     0.0    0.0    0.0    0.0  \n",
      "5            0.0            0.0     0.0    0.0    0.0    0.0  \n",
      "2            0.0            0.0     0.0    0.0    0.0    0.0  \n",
      "6            0.0            0.0     0.0    0.0    0.0    0.0  \n",
      "3            0.0            0.0     0.0    0.0    0.0    0.0  \n",
      "49345        0.0            0.0     0.0    0.0    0.0    0.0  \n",
      "7            0.0            0.0     0.0    0.0    0.0    0.0  \n",
      "56667        1.0            2.0     1.0    1.0    1.0    1.0  \n",
      "\n",
      "[9 rows x 10800 columns]\n",
      "None\n"
     ]
    }
   ],
   "source": [
    "\n",
    "def cosineSimilarity(historyWords, tableIndexData):\n",
    "    # Init variable\n",
    "    result = dict()\n",
    "    if historyWords!=None:\n",
    "        booksData = dict({'history':historyWords})\n",
    "        for word in historyWords.keys():\n",
    "            if word in tableIndexData:\n",
    "                for b in tableIndexData[word].keys(): \n",
    "                    if b in booksData:\n",
    "                        booksData[b].update(dict({word:tableIndexData[word][b]}))\n",
    "                    else:\n",
    "                        booksData.update(dict({b: dict({word:tableIndexData[word][b]})}))\n",
    "        bookDF = pd.DataFrame(booksData.values(),\n",
    "            index=booksData.keys()).fillna(0)\n",
    "        for cs in list(booksData.keys())[1:]:\n",
    "            result[cs] = cosine_similarity(bookDF.loc[\"history\":\"history\"],bookDF.loc[cs:cs])[0][0]\n",
    "        return result\n",
    "    else:\n",
    "        booksData = dict()\n",
    "\n",
    "        for word in tableIndexData:\n",
    "            for b in tableIndexData[word].keys(): \n",
    "                if b in booksData:\n",
    "                    booksData[b].update(dict({word:tableIndexData[word][b]}))\n",
    "                else:\n",
    "                    booksData.update(dict({b: dict({word:tableIndexData[word][b]})}))\n",
    "        bookDF = pd.DataFrame(booksData.values(),\n",
    "            index=booksData.keys()).fillna(0)\n",
    "        print(bookDF)\n",
    "        pass\n",
    "\n",
    "res = cosineSimilarity(None, tableIndexData)\n",
    "print(res)\n"
   ]
  },
  {
   "cell_type": "code",
   "execution_count": null,
   "metadata": {},
   "outputs": [],
   "source": [
    "booksData = []\n",
    "for book in booksInfo:\n",
    "    count = 0\n",
    "    for w in historyWords.keys():\n",
    "        if w in book['words']:\n",
    "            # count number occurs in document\n",
    "            # count += book['words'][w]\n",
    "            # count if have that word in ducument\n",
    "            count += historyWords[w]\n",
    "    booksData.append({\n",
    "        \"bookId\": book['bookId'],\n",
    "        \"jaccard\": (count/book['totalWordsWithOccur'])\n",
    "    })\n",
    "\n",
    "[print(b) for b in booksData]"
   ]
  }
 ],
 "metadata": {
  "kernelspec": {
   "display_name": "Python 3 (ipykernel)",
   "language": "python",
   "name": "python3"
  },
  "language_info": {
   "codemirror_mode": {
    "name": "ipython",
    "version": 3
   },
   "file_extension": ".py",
   "mimetype": "text/x-python",
   "name": "python",
   "nbconvert_exporter": "python",
   "pygments_lexer": "ipython3",
   "version": "3.10.4"
  },
  "vscode": {
   "interpreter": {
    "hash": "aee8b7b246df8f9039afb4144a1f6fd8d2ca17a180786b69acc140d282b71a49"
   }
  }
 },
 "nbformat": 4,
 "nbformat_minor": 2
}
