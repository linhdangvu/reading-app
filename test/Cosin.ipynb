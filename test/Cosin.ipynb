{
 "cells": [
  {
   "cell_type": "code",
   "execution_count": null,
   "metadata": {},
   "outputs": [],
   "source": [
    "# %pip install scikit-learn\n",
    "# %pip install pandas"
   ]
  },
  {
   "cell_type": "code",
   "execution_count": 18,
   "metadata": {},
   "outputs": [],
   "source": [
    "from sklearn.metrics.pairwise import cosine_similarity, cosine_distances\n",
    "import pandas as pd\n",
    "import time, concurrent.futures, json, requests, re\n",
    "import numpy as np\n",
    "import networkx as nx\n",
    "from threading import Lock"
   ]
  },
  {
   "cell_type": "code",
   "execution_count": null,
   "metadata": {},
   "outputs": [],
   "source": [
    "cosine_similarity([[3,1]],[[6,2]])\n",
    "cosine_distances([[3,1]],[[6,2]])"
   ]
  },
  {
   "cell_type": "code",
   "execution_count": null,
   "metadata": {},
   "outputs": [],
   "source": [
    "cosine_similarity([[3,0]],[[0,8]])"
   ]
  },
  {
   "cell_type": "code",
   "execution_count": null,
   "metadata": {},
   "outputs": [],
   "source": [
    "cosine_similarity([[3,1]],[[3,2]])"
   ]
  },
  {
   "cell_type": "code",
   "execution_count": null,
   "metadata": {},
   "outputs": [],
   "source": [
    "doc1 = \"\"\"\n",
    "iphone sales contributed to 70% of revenue. iphone demand is increasing by 20% yoy. \n",
    "the main competitor phone galaxy recorded 5% less growth compared to iphone\" ipad ipad \n",
    "\"\"\"\n",
    "\n",
    "doc2 = \"\"\"\n",
    "The upside pressure on volumes for the iPhone 12 series, historical outperformance \n",
    "in the July-September time period heading into launch event, and further catalysts in relation\n",
    "to outperformance for iPhone 13 volumes relative to lowered investor expectations implies a \n",
    "very attractive set up for the shares.\n",
    "\"\"\"\n",
    "\n",
    "doc3 = \"\"\"\n",
    "samsung's flagship product galaxy is able to penetrate more into asian markets compared to\n",
    "iphone. galaxy is redesigned with new look that appeals young demographics. 60% of samsung revenues\n",
    "are coming from galaxy phone sales\n",
    "\"\"\"\n",
    "\n",
    "doc4 = \"\"\"\n",
    "Samsung Electronics unveils its Galaxy S21 flagship, with modest spec improvements \n",
    "and a significantly lower price point. Galaxy S21 price is lower by ~20% (much like the iPhone 12A), \n",
    "which highlights Samsung's focus on boosting shipments and regaining market share.\n",
    "\"\"\""
   ]
  },
  {
   "cell_type": "code",
   "execution_count": null,
   "metadata": {},
   "outputs": [],
   "source": [
    "df = pd.DataFrame([\n",
    "        {'iPhone': 3,'galaxy': 1, 'ipad': 4, 'hi': 0},\n",
    "        {'iPhone': 2,'galaxy': 0, 'ipad': 1, 'hi': 0},\n",
    "        {'iPhone': 1,'galaxy': 3, 'ipad': 0, 'hi': 0},\n",
    "        {'iPhone': 1,'galaxy': 2, 'ipad': 2, 'hi': 0},\n",
    "        {'iPhone': 0,'galaxy': 0, 'ipad': 0, 'hi': 0},\n",
    "        {'iPhone': 0,'galaxy': 0, 'ipad': 0, 'hi': 0},\n",
    "        {'iPhone': 0,'galaxy': 0, 'ipad': 0, 'hi': 0},\n",
    "        {'iPhone': 0,'galaxy': 0, 'ipad': 0, 'hi': 0},\n",
    "    ],\n",
    "    index=[\n",
    "        \"doc1\",\n",
    "        \"doc2\",\n",
    "        \"doc3\",\n",
    "        \"doc4\",\n",
    "        \"doc5\",\"doc6\",\"doc7\",\"doc8\"\n",
    "    ])"
   ]
  },
  {
   "cell_type": "code",
   "execution_count": null,
   "metadata": {},
   "outputs": [],
   "source": [
    "df\n",
    "#df.loc[\"doc1\":\"doc1\"]"
   ]
  },
  {
   "cell_type": "code",
   "execution_count": null,
   "metadata": {},
   "outputs": [],
   "source": [
    "cosine_similarity(df.loc[\"doc1\":\"doc1\"],df.loc[\"doc5\":\"doc5\"])"
   ]
  },
  {
   "cell_type": "code",
   "execution_count": null,
   "metadata": {},
   "outputs": [],
   "source": [
    "data =  [\"independent\",\"abruptness\",\"abandonment\"]\n",
    "response_API = requests.post(\"http://127.0.0.1:5000/searchdata\", json = {\"word\": \"carvet\"})\n",
    "\n",
    "sendData = response_API.text\n",
    "print(sendData)"
   ]
  },
  {
   "cell_type": "code",
   "execution_count": 19,
   "metadata": {},
   "outputs": [],
   "source": [
    "# request to get books\n",
    "def getBooksThread(bookId, timeout=10):\n",
    "    response_API = requests.get('https://gutendex.com/books/{}'.format(bookId), timeout=timeout)\n",
    "    data = response_API.text\n",
    "    parse_json = json.loads(data)\n",
    "    if parse_json.get('detail') != None:\n",
    "        # print(bookId)\n",
    "        return 'NOT_FOUND'\n",
    "    return parse_json \n",
    "\n",
    "def getBooksData(listBooks):\n",
    "    print(\"Running get books threads:\")\n",
    "    threaded_start = time.time()\n",
    "    booksData = []\n",
    "    with concurrent.futures.ThreadPoolExecutor() as executor:\n",
    "        futures = []\n",
    "        for bookId in listBooks:\n",
    "            futures.append(executor.submit(getBooksThread, bookId))\n",
    "        for future in concurrent.futures.as_completed(futures):\n",
    "            if future.result() != 'NOT_FOUND':\n",
    "                booksData.append(future.result())\n",
    "            # print(future.result())\n",
    "    print(\"Threaded get books\", time.time() - threaded_start)\n",
    "    return booksData\n",
    "\n",
    "\n",
    "\n",
    "def getListBooks(listBooks):\n",
    "    def transformData(d):\n",
    "        res = []\n",
    "        if d.get('formats')!=None:\n",
    "            for t in d['formats'].keys():\n",
    "                checkEnd = d['formats'][t].split('.').pop()\n",
    "                if checkEnd == 'txt':\n",
    "                    res.append({\n",
    "                        'id': d['id'],\n",
    "                        'text_url': d['formats'][t]\n",
    "                    })\n",
    "        return res\n",
    "    \n",
    "    data = getBooksData(listBooks)\n",
    "    result = []\n",
    "    \n",
    "    print(\"Running get list books:\")\n",
    "    threaded_start = time.time()\n",
    "    with concurrent.futures.ThreadPoolExecutor() as executor:\n",
    "        futures = []\n",
    "        for d in data:\n",
    "            futures.append(executor.submit(transformData, d))\n",
    "        for future in concurrent.futures.as_completed(futures):\n",
    "            result += future.result()\n",
    "    print(\"Threaded get list books time:\", time.time() - threaded_start)\n",
    "    return result\n",
    "\n",
    "def getTableIndex(listBooks):\n",
    "    tableIndex = dict()\n",
    "    booksInfo = []\n",
    "    listBooksData = getListBooks(listBooks)\n",
    "\n",
    "    lock = Lock()\n",
    "\n",
    "    def readBook(book):\n",
    "        response_API = requests.get(book['text_url'])\n",
    "        data = response_API.text\n",
    "        #### Option 1: Prendre seulement des mots avec carateres de 4 à 10\n",
    "        words = re.findall(r\"[A-Za-z]{4,10}\\w+\", data)\n",
    "        occurentCounts = dict()\n",
    "\n",
    "        for word in words:\n",
    "            w = word.lower()\n",
    "            lock.acquire()\n",
    "            # Count for table index all books\n",
    "            if w in tableIndex:\n",
    "                if book['id'] in tableIndex[w]:\n",
    "                    tableIndex[w][book['id']] += 1\n",
    "                else:\n",
    "                    tableIndex[w][book['id']] = 1\n",
    "            else:\n",
    "                tableIndex[w] = dict({book['id']: 1})\n",
    "\n",
    "            # Count for table index for each book\n",
    "            if w in occurentCounts:\n",
    "                occurentCounts[w] += 1\n",
    "            else:\n",
    "                occurentCounts[w] = 1\n",
    "            lock.release()\n",
    "\n",
    "        return {\n",
    "            \"bookId\": book['id'],\n",
    "            \"words\": occurentCounts,\n",
    "            \"totalWords\": len(words),\n",
    "            \"totalWordsWithOccur\": len(occurentCounts)\n",
    "        }\n",
    "    print(\"Running table index:\")\n",
    "    threaded_start = time.time()\n",
    "    with concurrent.futures.ThreadPoolExecutor() as executor:\n",
    "        futures = []\n",
    "        for book in listBooksData:\n",
    "            futures.append(executor.submit(readBook, book))\n",
    "        for future in concurrent.futures.as_completed(futures):\n",
    "            booksInfo.append(future.result())\n",
    "    print(\"Threaded table index:\", time.time() - threaded_start)\n",
    "    return tableIndex, booksInfo\n",
    "\n"
   ]
  },
  {
   "cell_type": "code",
   "execution_count": 20,
   "metadata": {},
   "outputs": [
    {
     "name": "stdout",
     "output_type": "stream",
     "text": [
      "Running get books threads:\n",
      "Threaded get books 0.49893784523010254\n",
      "Running get list books:\n",
      "Threaded get list books time: 0.0011250972747802734\n",
      "Running table index:\n",
      "Threaded table index: 1.6427960395812988\n",
      "{56667: 27, 49345: 98}\n"
     ]
    }
   ],
   "source": [
    "\n",
    "listBooks = [49345,56667,1,2,3,4,5,6,7]\n",
    "tableIndexData, booksInfo = getTableIndex(listBooks)\n",
    "historyWords =dict({\n",
    "  \"carver\": 1, \n",
    "  \"carvet\": 1, \n",
    "  \"saigon\": 2, \n",
    "  \"sargon\": 3\n",
    "})\n",
    "\n",
    "print(tableIndexData['sargon'])\n"
   ]
  },
  {
   "cell_type": "code",
   "execution_count": 25,
   "metadata": {},
   "outputs": [
    {
     "name": "stdout",
     "output_type": "stream",
     "text": [
      "{1: 0.2581988897471611, 7: 0.2581988897471611, 49345: 0.7798254364032349, 56667: 0.7745966692414834}\n",
      "[(4, 6), (4, 2), (4, 3), (4, 7), (6, 4), (6, 2), (6, 3), (6, 1), (6, 7), (2, 4), (2, 6), (2, 3), (2, 1), (2, 5), (2, 7), (3, 4), (3, 6), (3, 2), (3, 1), (3, 7), (1, 6), (1, 2), (1, 3), (1, 5), (5, 2), (5, 1), (7, 4), (7, 6), (7, 2), (7, 3), (49345, 56667), (56667, 49345)]\n",
      "{'bookId': 2, 'closeness': 0.75}\n",
      "{'bookId': 6, 'closeness': 0.6428571428571428}\n",
      "{'bookId': 3, 'closeness': 0.6428571428571428}\n",
      "{'bookId': 4, 'closeness': 0.5625}\n",
      "{'bookId': 7, 'closeness': 0.5625}\n",
      "{'bookId': 1, 'closeness': 0.5625}\n",
      "{'bookId': 5, 'closeness': 0.44999999999999996}\n",
      "{'bookId': 49345, 'closeness': 0.125}\n",
      "{'bookId': 56667, 'closeness': 0.125}\n"
     ]
    }
   ],
   "source": [
    "\n",
    "def toTableCosine(tableIndexData):\n",
    "    booksData = dict()\n",
    "    for word in tableIndexData:\n",
    "        for b in tableIndexData[word].keys(): \n",
    "            if b in booksData:\n",
    "                booksData[b].update(dict({word:tableIndexData[word][b]}))\n",
    "            else:\n",
    "                booksData.update(dict({b: dict({word:tableIndexData[word][b]})}))\n",
    "\n",
    "    return booksData\n",
    "\n",
    "def cosineSearchWord(historyWords, tableIndexData):\n",
    "    # Init variable\n",
    "    result = dict()\n",
    "    booksData = dict({'history':historyWords})\n",
    "    for word in historyWords.keys():\n",
    "        if word in tableIndexData:\n",
    "            for b in tableIndexData[word].keys(): \n",
    "                if b in booksData:\n",
    "                    booksData[b].update(dict({word:tableIndexData[word][b]}))\n",
    "                else:\n",
    "                    booksData.update(dict({b: dict({word:tableIndexData[word][b]})}))\n",
    "    bookDF = pd.DataFrame(booksData.values(),\n",
    "        index=booksData.keys()).fillna(0)\n",
    "    for cs in list(booksData.keys())[1:]:\n",
    "        result[cs] = cosine_similarity(bookDF.loc[\"history\":\"history\"],bookDF.loc[cs:cs])[0][0]\n",
    "    return result\n",
    "\n",
    "def getMatrixCloseness(tableIndexData):\n",
    "    # Init variable\n",
    "    booksData = dict()\n",
    "    for word in tableIndexData:\n",
    "        for b in tableIndexData[word].keys(): \n",
    "            if b in booksData:\n",
    "                booksData[b].update(dict({word:tableIndexData[word][b]}))\n",
    "            else:\n",
    "                booksData.update(dict({b: dict({word:tableIndexData[word][b]})}))\n",
    "    bookDF = pd.DataFrame(booksData.values(),\n",
    "        index=booksData.keys()).fillna(0)\n",
    "    # print(bookDF)\n",
    "    matrixCloseness = []\n",
    "    for b1 in list(booksData.keys()):\n",
    "        for b2 in list(booksData.keys()):\n",
    "            if b1 != b2:\n",
    "                res = cosine_similarity(bookDF.loc[b1:b1],bookDF.loc[b2:b2])[0][0]\n",
    "                if res*100 > 50: # > 50% -> add edge\n",
    "                    matrixCloseness.append((b1,b2))\n",
    "    \n",
    "    print(matrixCloseness)\n",
    "    # Create the graph representing the reading app\n",
    "    G = nx.Graph()\n",
    "    G.add_edges_from(matrixCloseness)\n",
    "    closenessData = []\n",
    "\n",
    "    # Compute the closeness centrality of each node in the graph\n",
    "    closeness_centrality = nx.closeness_centrality(G)\n",
    "\n",
    "    # Print the closeness centrality of each node\n",
    "    for node, closeness in closeness_centrality.items():\n",
    "        closenessData.append({\"bookId\": node, \"closeness\":closeness })\n",
    "\n",
    "    sortedClosenessData = sorted(closenessData, key=lambda d: d['closeness'], reverse=True) \n",
    "    return sortedClosenessData\n",
    "\n",
    "searchedBook = cosineSearchWord(historyWords, tableIndexData)\n",
    "print(searchedBook)\n",
    "matC = getMatrixCloseness(tableIndexData)\n",
    "for i in matC:\n",
    "    print (i)\n",
    "\n",
    "# getMatrixCloseness(tableIndexData)\n"
   ]
  },
  {
   "cell_type": "code",
   "execution_count": null,
   "metadata": {},
   "outputs": [],
   "source": [
    "booksData = []\n",
    "for book in booksInfo:\n",
    "    count = 0\n",
    "    for w in historyWords.keys():\n",
    "        if w in book['words']:\n",
    "            # count number occurs in document\n",
    "            # count += book['words'][w]\n",
    "            # count if have that word in ducument\n",
    "            count += historyWords[w]\n",
    "    booksData.append({\n",
    "        \"bookId\": book['bookId'],\n",
    "        \"jaccard\": (count/book['totalWordsWithOccur'])\n",
    "    })\n",
    "\n",
    "[print(b) for b in booksData]"
   ]
  },
  {
   "cell_type": "code",
   "execution_count": null,
   "metadata": {},
   "outputs": [],
   "source": [
    "data = {\n",
    "  \"1\": 0.6, \n",
    "  \"6\": 0.4472135954999579, \n",
    "  \"7\": 0.4472135954999579, \n",
    "  \"49345\": 0.4517534811203126, \n",
    "  \"56667\": 0.6439041435846341\n",
    "}\n",
    "\n",
    "sortedBooks = dict(sorted(data.items(),key=lambda x:x[1], reverse=True))\n",
    "\n",
    "print(sortedBooks)"
   ]
  },
  {
   "cell_type": "code",
   "execution_count": 12,
   "metadata": {},
   "outputs": [
    {
     "name": "stdout",
     "output_type": "stream",
     "text": [
      "[{'bookId': 6, 'jaccard': 0.001}, {'bookId': 1, 'jaccard': 0.00011661807580174928}, {'bookId': 49345, 'jaccard': 8.2223318533136e-05}, {'bookId': 56667, 'jaccard': 5.6507816914673195e-05}, {'bookId': 3, 'jaccard': 0.0}, {'bookId': 5, 'jaccard': 0.0}, {'bookId': 4, 'jaccard': 0.0}, {'bookId': 2, 'jaccard': 0.0}, {'bookId': 7, 'jaccard': 0.0}]\n"
     ]
    }
   ],
   "source": [
    "\n",
    "\n",
    "data = [\n",
    "    {  \"bookId\": 6,  \"jaccard\": 0.001 }, \n",
    "    { \"bookId\": 1,  \"jaccard\": 0.00011661807580174928 }, \n",
    "    { \"bookId\": 49345, \"jaccard\": 8.2223318533136e-05}, \n",
    "    {  \"bookId\": 56667,  \"jaccard\": 5.6507816914673195e-05}, \n",
    "    { \"bookId\": 3,  \"jaccard\": 0.0 }, \n",
    "    {  \"bookId\": 5, \"jaccard\": 0.0 }, \n",
    "    {\n",
    "        \"bookId\": 4, \n",
    "        \"jaccard\": 0.0\n",
    "    }, \n",
    "    {\n",
    "        \"bookId\": 2,\n",
    "        \"jaccard\": 0.0\n",
    "    }, \n",
    "    {\n",
    "        \"bookId\": 7,\n",
    "        \"jaccard\": 0.0\n",
    "    }\n",
    "]\n",
    "\n",
    "# print(data)\n",
    "sorted_list = sorted(data, key=lambda x: x['jaccard'], reverse=True)\n",
    "print(sorted_list)\n"
   ]
  },
  {
   "cell_type": "code",
   "execution_count": 17,
   "metadata": {},
   "outputs": [
    {
     "name": "stdout",
     "output_type": "stream",
     "text": [
      "False\n"
     ]
    }
   ],
   "source": [
    "print(1 < 8.2223318533136e-05)"
   ]
  }
 ],
 "metadata": {
  "kernelspec": {
   "display_name": "Python 3 (ipykernel)",
   "language": "python",
   "name": "python3"
  },
  "language_info": {
   "codemirror_mode": {
    "name": "ipython",
    "version": 3
   },
   "file_extension": ".py",
   "mimetype": "text/x-python",
   "name": "python",
   "nbconvert_exporter": "python",
   "pygments_lexer": "ipython3",
   "version": "3.10.4"
  },
  "vscode": {
   "interpreter": {
    "hash": "aee8b7b246df8f9039afb4144a1f6fd8d2ca17a180786b69acc140d282b71a49"
   }
  }
 },
 "nbformat": 4,
 "nbformat_minor": 2
}
