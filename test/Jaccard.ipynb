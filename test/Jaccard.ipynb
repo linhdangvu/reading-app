{
 "cells": [
  {
   "cell_type": "code",
   "execution_count": null,
   "metadata": {},
   "outputs": [],
   "source": [
    "def jaccardSimilarity(historyWords,booksInfo):\n",
    "    booksData = []\n",
    "    for book in booksInfo:\n",
    "        count = 0\n",
    "        for w in historyWords.keys():\n",
    "            if w in book['words']:\n",
    "                count += 1\n",
    "        booksData.append({\n",
    "            \"bookId\": book['bookId'],\n",
    "            \"jaccard\": (count/book['totalWordsWithOccur'])\n",
    "        })\n",
    "    return booksData\n",
    "\n"
   ]
  }
 ],
 "metadata": {
  "kernelspec": {
   "display_name": "Python 3",
   "language": "python",
   "name": "python3"
  },
  "language_info": {
   "name": "python",
   "version": "3.10.4"
  },
  "orig_nbformat": 4,
  "vscode": {
   "interpreter": {
    "hash": "aee8b7b246df8f9039afb4144a1f6fd8d2ca17a180786b69acc140d282b71a49"
   }
  }
 },
 "nbformat": 4,
 "nbformat_minor": 2
}
