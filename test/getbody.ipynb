{
 "cells": [
  {
   "cell_type": "code",
   "execution_count": 2,
   "metadata": {},
   "outputs": [
    {
     "name": "stdout",
     "output_type": "stream",
     "text": [
      "[]\n"
     ]
    }
   ],
   "source": [
    "import re\n",
    "\n"
   ]
  },
  {
   "cell_type": "code",
   "execution_count": 9,
   "metadata": {},
   "outputs": [
    {
     "name": "stdout",
     "output_type": "stream",
     "text": [
      "\n",
      "<section class=\"pg-boilerplate pgheader\" id=\"pg-header\" lang=\"en\">\n",
      "    <h2 style=\"text-align:center;\n"
     ]
    }
   ],
   "source": [
    "data = \"<body>\\r\\n<section class=\\\"pg-boilerplate pgheader\\\" id=\\\"pg-header\\\" lang=\\\"en\\\">\\r\\n    <h2 style=\\\"text-align:center;</body> font-size:1.2em; font-weight:bold\\\">The Project Gutenberg eBook of <span lang=\\\"en\\\">The United States Bill of Rights</span>, by United States</h2>\\r\\n    <div style=\\\"display:block; margin:1em 0\\\">\\r\\nThis ebook is for the use of anyone anywhere in the United States and most other parts of the world at no cost and with almost no restrictions whatsoever. You may copy it, give it away or re-use it under the terms of the Project Gutenberg License included with this ebook or online at <a class=\\\"reference external\\\" href=\\\"https://www.gutenberg.org\\\">www.gutenberg.org</a>. If you are not located in the United States, you\\u2019ll have to check the laws of the country where you are located before using this eBook.</div>\\r\\n\\r\\n    <div class=\\\"container\\\" id=\\\"pg-machine-header\\\">\\r\\n        <p style=\\\"display:block; margin-top:1em; margin-bottom:1em; margin-left:2em; text-indent:-2em\\\"><strong>Title</strong>: The United States Bill of Rights</p>\\r\\n        <p style=\\\"display:block; margin-top:1em; margin-bottom:1em; margin-left:2em; text-indent:-2em\\\"><strong>Subtitle</strong>: The Ten Original Amendments to the Constitution of the United States</p>\\r\\n        <p style=\\\"display:block; margin-top:1em; margin-bottom:1em; margin-left:2em; text-indent:-2em\\\"><strong>Author</strong>: United States</p>\\r\\n\\r\\n\"\n",
    "\n",
    "pattern = re.compile(r'<body>(.*?)</body>', re.DOTALL)\n",
    "result = re.search(pattern, data)\n",
    "\n",
    "if result:\n",
    "    body_content = result.group(1)\n",
    "    print(body_content)"
   ]
  }
 ],
 "metadata": {
  "kernelspec": {
   "display_name": "Python 3",
   "language": "python",
   "name": "python3"
  },
  "language_info": {
   "codemirror_mode": {
    "name": "ipython",
    "version": 3
   },
   "file_extension": ".py",
   "mimetype": "text/x-python",
   "name": "python",
   "nbconvert_exporter": "python",
   "pygments_lexer": "ipython3",
   "version": "3.10.4"
  },
  "orig_nbformat": 4,
  "vscode": {
   "interpreter": {
    "hash": "aee8b7b246df8f9039afb4144a1f6fd8d2ca17a180786b69acc140d282b71a49"
   }
  }
 },
 "nbformat": 4,
 "nbformat_minor": 2
}
