{
 "cells": [
  {
   "cell_type": "code",
   "execution_count": 20,
   "id": "4d8adaf4",
   "metadata": {},
   "outputs": [],
   "source": [
    "import requests\n",
    "import json\n",
    "import re"
   ]
  },
  {
   "cell_type": "code",
   "execution_count": 106,
   "id": "22ea8e14",
   "metadata": {},
   "outputs": [],
   "source": [
    "def readBooks():\n",
    "    # listBooks = [49345,56667,1,2,3,4,5,6,7]\n",
    "    listBooks = [56667]\n",
    "    counts = dict()\n",
    "    word2letters = dict()\n",
    "    word3letters = dict()\n",
    "    tableIndex = dict()\n",
    "    for book in listBooks:\n",
    "        response_API = requests.get('https://www.gutenberg.org/files/{bookId}/{bookId}-0.txt'.format(bookId=book))\n",
    "        data = response_API.text\n",
    "\n",
    "        words = re.findall(r\"[A-Za-z]+\", data)\n",
    "        print(words)\n",
    "        for word in words:\n",
    "            w = word.lower()\n",
    "            if len(w) <= 2:\n",
    "                if w in word2letters:\n",
    "                    word2letters[w] += 1\n",
    "                else:\n",
    "                    word2letters[w] = 1\n",
    "            elif len(w) == 3:\n",
    "                if w in word3letters:\n",
    "                    word3letters[w] += 1\n",
    "                else:\n",
    "                    word3letters[w] = 1\n",
    "            else:\n",
    "                if w in counts:\n",
    "                    counts[w] += 1\n",
    "                else:\n",
    "                    counts[w] = 1\n",
    "                if w in tableIndex:\n",
    "                    if book not in tableIndex[w]:\n",
    "                        tableIndex[w] += [book]\n",
    "                else:\n",
    "                    tableIndex[w] = [book]\n",
    "\n",
    "    print(\"Book ID: \", book)\n",
    "    print(\"Total word different: \", len(counts))\n",
    "    #print(\"sargon: \" , counts[\"sargon\"])\n",
    "    print(\"List 2 lettres: \",len(word2letters))\n",
    "    print(\"List 3 lettres: \",len(word3letters))\n",
    "    print(tableIndex)\n",
    "    #return jsonify(parse_json['results'])\n",
    "\n",
    "# readBooks()"
   ]
  },
  {
   "cell_type": "code",
   "execution_count": null,
   "id": "a13a0931",
   "metadata": {},
   "outputs": [],
   "source": [
    "def readBooks():\n",
    "    # listBooks = [49345,56667,1,2,3,4,5,6,7]\n",
    "    listBooks = [56667]\n",
    "    counts = dict()\n",
    "    word2letters = dict()\n",
    "    word3letters = dict()\n",
    "    tableIndex = dict()\n",
    "    for book in listBooks:\n",
    "        response_API = requests.get('https://www.gutenberg.org/files/{bookId}/{bookId}-0.txt'.format(bookId=book))\n",
    "        data = response_API.text\n",
    "\n",
    "        words = re.findall(r\"[A-Za-z]+\", data)\n",
    "        print(words)\n",
    "        for word in words:\n",
    "            w = word.lower()\n",
    "            if len(w) <= 2:\n",
    "                if w in word2letters:\n",
    "                    word2letters[w] += 1\n",
    "                else:\n",
    "                    word2letters[w] = 1\n",
    "            elif len(w) == 3:\n",
    "                if w in word3letters:\n",
    "                    word3letters[w] += 1\n",
    "                else:\n",
    "                    word3letters[w] = 1\n",
    "            else:\n",
    "                if w in counts:\n",
    "                    counts[w] += 1\n",
    "                else:\n",
    "                    counts[w] = 1\n",
    "                if w in tableIndex:\n",
    "                    if book not in tableIndex[w]:\n",
    "                        tableIndex[w] += [book]\n",
    "                else:\n",
    "                    tableIndex[w] = [book]\n",
    "\n",
    "    print(\"Book ID: \", book)\n",
    "    print(\"Total word different: \", len(counts))\n",
    "    #print(\"sargon: \" , counts[\"sargon\"])\n",
    "    print(\"List 2 lettres: \",len(word2letters))\n",
    "    print(\"List 3 lettres: \",len(word3letters))\n",
    "    print(tableIndex)\n",
    "    #return jsonify(parse_json['results'])\n",
    "\n",
    "readBooks()"
   ]
  },
  {
   "cell_type": "code",
   "execution_count": 119,
   "id": "0a6f8b2a",
   "metadata": {},
   "outputs": [
    {
     "ename": "AttributeError",
     "evalue": "'NoneType' object has no attribute 'group'",
     "output_type": "error",
     "traceback": [
      "\u001b[0;31m---------------------------------------------------------------------------\u001b[0m",
      "\u001b[0;31mAttributeError\u001b[0m                            Traceback (most recent call last)",
      "\u001b[1;32m/Volumes/Bi DANG/CFAINSTA/Codespace/MoteurRecherche/projectLecture/reading-app/back/ReadBooks.ipynb Cellule 4\u001b[0m in \u001b[0;36m6\n\u001b[1;32m      <a href='vscode-notebook-cell:/Volumes/Bi%20DANG/CFAINSTA/Codespace/MoteurRecherche/projectLecture/reading-app/back/ReadBooks.ipynb#W3sZmlsZQ%3D%3D?line=3'>4</a>\u001b[0m \u001b[39m# print(re.findall(r\"[\\w']+\", text))\u001b[39;00m\n\u001b[1;32m      <a href='vscode-notebook-cell:/Volumes/Bi%20DANG/CFAINSTA/Codespace/MoteurRecherche/projectLecture/reading-app/back/ReadBooks.ipynb#W3sZmlsZQ%3D%3D?line=4'>5</a>\u001b[0m pattern \u001b[39m=\u001b[39m re\u001b[39m.\u001b[39mcompile(\u001b[39m\"\u001b[39m\u001b[39meBook is\u001b[39m\u001b[39m\"\u001b[39m)\n\u001b[0;32m----> <a href='vscode-notebook-cell:/Volumes/Bi%20DANG/CFAINSTA/Codespace/MoteurRecherche/projectLecture/reading-app/back/ReadBooks.ipynb#W3sZmlsZQ%3D%3D?line=5'>6</a>\u001b[0m pattern \u001b[39m=\u001b[39m re\u001b[39m.\u001b[39;49msearch(\u001b[39mr\u001b[39;49m\u001b[39m'\u001b[39;49m\u001b[39m\\\u001b[39;49m\u001b[39mbeBook is\u001b[39;49m\u001b[39m\\\u001b[39;49m\u001b[39mb\u001b[39;49m\u001b[39m'\u001b[39;49m,text)\u001b[39m.\u001b[39;49mgroup(\u001b[39m0\u001b[39m)\n\u001b[1;32m      <a href='vscode-notebook-cell:/Volumes/Bi%20DANG/CFAINSTA/Codespace/MoteurRecherche/projectLecture/reading-app/back/ReadBooks.ipynb#W3sZmlsZQ%3D%3D?line=6'>7</a>\u001b[0m \u001b[39mprint\u001b[39m (pattern)\n\u001b[1;32m      <a href='vscode-notebook-cell:/Volumes/Bi%20DANG/CFAINSTA/Codespace/MoteurRecherche/projectLecture/reading-app/back/ReadBooks.ipynb#W3sZmlsZQ%3D%3D?line=7'>8</a>\u001b[0m match \u001b[39m=\u001b[39m re\u001b[39m.\u001b[39msearch(\u001b[39mr\u001b[39m\u001b[39m'\u001b[39m\u001b[39m\\\u001b[39m\u001b[39mbeBook is\u001b[39m\u001b[39m\\\u001b[39m\u001b[39mb\u001b[39m\u001b[39m'\u001b[39m,text)\n",
      "\u001b[0;31mAttributeError\u001b[0m: 'NoneType' object has no attribute 'group'"
     ]
    }
   ],
   "source": [
    "import re\n",
    "text = \"This eBofor the you're use of - anyone, anywhere in the for eBook isStates \\n and most.\"\n",
    "\n",
    "# print(re.findall(r\"[\\w']+\", text))\n",
    "pattern = re.compile(\"eBook is\")\n",
    "pattern = re.search(r'\\beBook is\\b',text).group(0)\n",
    "print (pattern)\n",
    "match = re.search(r'\\beBook is\\b',text)\n",
    "if match:\n",
    "    print (\"Found\")\n",
    "else:\n",
    "    print (\"Not Found\")\n"
   ]
  },
  {
   "cell_type": "code",
   "execution_count": null,
   "id": "0bbeea92",
   "metadata": {},
   "outputs": [],
   "source": []
  }
 ],
 "metadata": {
  "kernelspec": {
   "display_name": "Python 3",
   "language": "python",
   "name": "python3"
  },
  "language_info": {
   "codemirror_mode": {
    "name": "ipython",
    "version": 3
   },
   "file_extension": ".py",
   "mimetype": "text/x-python",
   "name": "python",
   "nbconvert_exporter": "python",
   "pygments_lexer": "ipython3",
   "version": "3.10.4"
  },
  "vscode": {
   "interpreter": {
    "hash": "aee8b7b246df8f9039afb4144a1f6fd8d2ca17a180786b69acc140d282b71a49"
   }
  }
 },
 "nbformat": 4,
 "nbformat_minor": 5
}
