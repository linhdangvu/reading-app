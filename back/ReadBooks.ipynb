{
 "cells": [
  {
   "cell_type": "code",
   "execution_count": 20,
   "id": "4d8adaf4",
   "metadata": {},
   "outputs": [],
   "source": [
    "import requests\n",
    "import json\n",
    "import re"
   ]
  },
  {
   "cell_type": "code",
   "execution_count": 106,
   "id": "22ea8e14",
   "metadata": {},
   "outputs": [],
   "source": [
    "def readBooks():\n",
    "    # listBooks = [49345,56667,1,2,3,4,5,6,7]\n",
    "    listBooks = [56667]\n",
    "    counts = dict()\n",
    "    word2letters = dict()\n",
    "    word3letters = dict()\n",
    "    tableIndex = dict()\n",
    "    for book in listBooks:\n",
    "        response_API = requests.get('https://www.gutenberg.org/files/{bookId}/{bookId}-0.txt'.format(bookId=book))\n",
    "        data = response_API.text\n",
    "\n",
    "        words = re.findall(r\"[A-Za-z]+\", data)\n",
    "        print(words)\n",
    "        for word in words:\n",
    "            w = word.lower()\n",
    "            if len(w) <= 2:\n",
    "                if w in word2letters:\n",
    "                    word2letters[w] += 1\n",
    "                else:\n",
    "                    word2letters[w] = 1\n",
    "            elif len(w) == 3:\n",
    "                if w in word3letters:\n",
    "                    word3letters[w] += 1\n",
    "                else:\n",
    "                    word3letters[w] = 1\n",
    "            else:\n",
    "                if w in counts:\n",
    "                    counts[w] += 1\n",
    "                else:\n",
    "                    counts[w] = 1\n",
    "                if w in tableIndex:\n",
    "                    if book not in tableIndex[w]:\n",
    "                        tableIndex[w] += [book]\n",
    "                else:\n",
    "                    tableIndex[w] = [book]\n",
    "\n",
    "    print(\"Book ID: \", book)\n",
    "    print(\"Total word different: \", len(counts))\n",
    "    #print(\"sargon: \" , counts[\"sargon\"])\n",
    "    print(\"List 2 lettres: \",len(word2letters))\n",
    "    print(\"List 3 lettres: \",len(word3letters))\n",
    "    print(tableIndex)\n",
    "    #return jsonify(parse_json['results'])\n",
    "\n",
    "# readBooks()"
   ]
  },
  {
   "cell_type": "code",
   "execution_count": 134,
   "id": "a13a0931",
   "metadata": {},
   "outputs": [],
   "source": [
    "def readBooks():\n",
    "    # listBooks = [49345,56667,1,2,3,4,5,6,7]\n",
    "    listBooks = [56667]\n",
    "    counts = dict()\n",
    "    word2letters = dict()\n",
    "    word3letters = dict()\n",
    "    tableIndex = dict()\n",
    "    for book in listBooks:\n",
    "        response_API = requests.get('https://www.gutenberg.org/files/{bookId}/{bookId}-0.txt'.format(bookId=book))\n",
    "        data = response_API.text\n",
    "\n",
    "        words = re.findall(r\"[A-Za-z]{4,10}\\w+\", data)\n",
    "        print(words)\n",
    "        for word in words:\n",
    "            w = word.lower()\n",
    "            if len(w) <= 2:\n",
    "                if w in word2letters:\n",
    "                    word2letters[w] += 1\n",
    "                else:\n",
    "                    word2letters[w] = 1\n",
    "            elif len(w) == 3:\n",
    "                if w in word3letters:\n",
    "                    word3letters[w] += 1\n",
    "                else:\n",
    "                    word3letters[w] = 1\n",
    "            else:\n",
    "                if w in counts:\n",
    "                    counts[w] += 1\n",
    "                else:\n",
    "                    counts[w] = 1\n",
    "                if w in tableIndex:\n",
    "                    if book not in tableIndex[w]:\n",
    "                        tableIndex[w] += [book]\n",
    "                else:\n",
    "                    tableIndex[w] = [book]\n",
    "\n",
    "    print(\"Book ID: \", book)\n",
    "    print(\"Total word different: \", len(counts))\n",
    "    #print(\"sargon: \" , counts[\"sargon\"])\n",
    "    print(\"List 2 lettres: \",len(word2letters))\n",
    "    print(\"List 3 lettres: \",len(word3letters))\n",
    "    print(tableIndex)\n",
    "    #return jsonify(parse_json['results'])\n",
    "\n",
    "# readBooks()"
   ]
  },
  {
   "cell_type": "code",
   "execution_count": 194,
   "id": "0a6f8b2a",
   "metadata": {},
   "outputs": [
    {
     "name": "stdout",
     "output_type": "stream",
     "text": [
      "Not found\n"
     ]
    }
   ],
   "source": [
    "import re\n",
    "text = \"Chennai \\n is a beautiful city. It’s the capital of the state of Tamil Nadu. Chennai has an area close to 430 kilometer squares. Well chennai is not as large as mumbai which has an area of 603.4 kilometer squares. By road, Chennai is about 1500 kilometers away from Mumbai. Whereas, it is about 2200 kilometers away from Delhi, the capital of India.\"\n",
    "words = re.findall(r\"[A-Za-z]\\w+\", text)\n",
    "nWord = \" \".join(re.findall(r\"[A-Za-z]\\w+\", text))\n",
    "cities_record = 'Chennai \\n is a beautiful ci'\n",
    "re.findall(cities_record, nWord)\n",
    "if re.search(cities_record, nWord):\n",
    "    print(\"found\")\n",
    "else:\n",
    "    print(\"Not found\")"
   ]
  },
  {
   "cell_type": "code",
   "execution_count": 202,
   "id": "0bbeea92",
   "metadata": {},
   "outputs": [
    {
     "name": "stdout",
     "output_type": "stream",
     "text": [
      "on of the monarchy It closed at the point when the city of Babylon was about to secure the permanent leadership under her dynasty of West Semitic kings The present volume describes the fortunes of Babylonia during\n",
      "[56667]\n"
     ]
    }
   ],
   "source": [
    "# listBooks = [56667, 123]\n",
    "listBooks = [49345,56667,1,2,3,4,5,6,7]\n",
    "def searchText(word, listBooks):\n",
    "    bookData = []\n",
    "    \n",
    "    findText = \" \".join(re.findall(r\"[A-Za-z0-9]\\w+\", word))\n",
    "    print(findText)\n",
    "    for book in listBooks:\n",
    "        response_API = requests.get('https://www.gutenberg.org/files/{bookId}/{bookId}-0.txt'.format(bookId=book))\n",
    "        data = response_API.text\n",
    "        #### Option 1: take too much time to find\n",
    "        allText = \" \".join(re.findall(r\"[A-Za-z0-9]\\w+\", data))\n",
    "        if re.search(findText, allText):\n",
    "            bookData.append(book)\n",
    "\n",
    "    return bookData   \n",
    "    \n",
    "bl = searchText(\"on of the \\n monarchy. It closed at the point when the city of Babylon was about \\n to secure the permanent leadership under her dynasty of West-Semitic\\nkings. The present volume describes the fortunes of Babylonia during\", listBooks)\n",
    "print(bl)"
   ]
  }
 ],
 "metadata": {
  "kernelspec": {
   "display_name": "Python 3",
   "language": "python",
   "name": "python3"
  },
  "language_info": {
   "codemirror_mode": {
    "name": "ipython",
    "version": 3
   },
   "file_extension": ".py",
   "mimetype": "text/x-python",
   "name": "python",
   "nbconvert_exporter": "python",
   "pygments_lexer": "ipython3",
   "version": "3.10.4"
  },
  "vscode": {
   "interpreter": {
    "hash": "aee8b7b246df8f9039afb4144a1f6fd8d2ca17a180786b69acc140d282b71a49"
   }
  }
 },
 "nbformat": 4,
 "nbformat_minor": 5
}
