{
 "cells": [
  {
   "cell_type": "code",
   "execution_count": 4,
   "id": "bc37a7d9",
   "metadata": {},
   "outputs": [
    {
     "name": "stdout",
     "output_type": "stream",
     "text": [
      " Similarity between x and y is 0.25 \n",
      " Similarity between x and z is  0.5 \n",
      " Similarity between x and z is  0.0\n",
      " Similarity between x and y is 0.75 \n",
      " Similarity between x and z is  0.5 \n",
      " Similarity between x and z is  1.0\n"
     ]
    }
   ],
   "source": [
    "import numpy as np\n",
    "\n",
    "\n",
    "# Define some binary vectors\n",
    "x = [0,1,0,0,0,1,0,0,1]\n",
    "y = [0,0,1,0,0,0,0,0,1]\n",
    "z = [1,1,0,0,0,1,0,0,0]\n",
    "\n",
    "\n",
    "# similarity case\n",
    "\n",
    "def jaccard_binary(x,y):\n",
    "    \"\"\"A function for finding the similarity between two binary vectors\"\"\"\n",
    "    intersection = np.logical_and(x, y)\n",
    "    union = np.logical_or(x, y)\n",
    "    similarity = intersection.sum() / float(union.sum())\n",
    "    return similarity\n",
    "\n",
    "\n",
    "\n",
    "# Find similarity among the vectors\n",
    "simxy = jaccard_binary(x,y)\n",
    "simxz = jaccard_binary(x,z)\n",
    "simyz = jaccard_binary(y,z)\n",
    "\n",
    "print(' Similarity between x and y is', simxy, '\\n Similarity between x and z is ', simxz, '\\n Similarity between x and z is ', simyz)\n",
    "\n",
    "\n",
    "# dissimilarity  case\n",
    "\n",
    "def reverse_jaccard_binary(x,y):\n",
    "    \"\"\"A function for finding the dissimilarity between two binary vectors\"\"\"\n",
    "    dissimilarity = 1 - jaccard_binary(x,y)\n",
    "    return dissimilarity\n",
    "\n",
    "# Find similarity among the vectors\n",
    "dissimxy = reverse_jaccard_binary(x,y)\n",
    "dissimxz = reverse_jaccard_binary(x,z)\n",
    "dissimyz = reverse_jaccard_binary(y,z)\n",
    "\n",
    "print(' Similarity between x and y is', dissimxy, '\\n Similarity between x and z is ', dissimxz, '\\n Similarity between x and z is ', dissimyz)\n"
   ]
  },
  {
   "cell_type": "code",
   "execution_count": null,
   "id": "b7c1ecd7",
   "metadata": {},
   "outputs": [],
   "source": []
  }
 ],
 "metadata": {
  "kernelspec": {
   "display_name": "Python 3 (ipykernel)",
   "language": "python",
   "name": "python3"
  },
  "language_info": {
   "codemirror_mode": {
    "name": "ipython",
    "version": 3
   },
   "file_extension": ".py",
   "mimetype": "text/x-python",
   "name": "python",
   "nbconvert_exporter": "python",
   "pygments_lexer": "ipython3",
   "version": "3.8.8"
  }
 },
 "nbformat": 4,
 "nbformat_minor": 5
}
